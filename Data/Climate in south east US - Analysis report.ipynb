{
 "cells": [
  {
   "cell_type": "markdown",
   "metadata": {
    "run_control": {
     "frozen": false,
     "read_only": false
    }
   },
   "source": [
    "# South-East US (Alabama/Georgia/Florida) Weather Analysis\n",
    "\n",
    "This is a report on the historical analysis of weather patterns in an area that approximately overlaps the area of the states of Alabama, Georgia and Florida.\n",
    "\n",
    "The data we will use here comes from [NOAA](https://www.ncdc.noaa.gov/). Specifically, it was downloaded from This [FTP site](ftp://ftp.ncdc.noaa.gov/pub/data/ghcn/daily/).\n",
    "\n",
    "We focused on six measurements:\n",
    "* **TMIN, TMAX:** the daily minimum and maximum temperature.\n",
    "* **TOBS:** The average temperature for each day.\n",
    "* **PRCP:** Daily Percipitation (in mm)\n",
    "* **SNOW:** Daily snowfall (in mm)\n",
    "* **SNWD:** The depth of accumulated snow.\n",
    "\n",
    "## Span of Weather Stations\n",
    "\n",
    "By plotting the latitude,longitude of the weather stations in the dataset, it was found that all the weather stations belong to the South-eastern part of USA, covering the states of Alabama, Florida and Georgia. We can see that some of the stations are concentrated in major cities and not well spread out. The plot of the 1408 stations is show below.\n",
    "\n",
    "<p><img style='height:300px' src=\"myfigs/location_map.jpg\" /></p>\n",
    "\n",
    "## Sanity-check: comparison with outside sources\n",
    "\n",
    "<p>We start by comparing some of the general statistics with graphs that we obtained from a site called <a href=\"http://www.usclimatedata.com/climate/tallahassee/florida/united-states/usfl0479\" target=\"_blank\">US Climate Data</a> The graph below shows the daily minimum and maximum temperatures for each month, as well as the total precipitation for each month.</p>\n",
    "\n",
    "<p> Here we are comparing the plots obtained from the town of Talahasee in Florida <p>\n",
    "\n",
    "<p>&nbsp;</p>\n",
    "\n",
    "<p><img alt=\"Climate_Boston_-_Massachusetts_and_Weather_averages_Boston.jpg\" src=\"myfigs/sanity_check.jpg\" /></p>\n",
    "\n",
    "<p>&nbsp;</p>\n",
    "\n",
    "<p>We see that the min and max daily&nbsp;temperature agree with the ones we got from our data, once we translate Fahrenheit to Centigrade.</p>\n",
    "\n",
    "<p>&nbsp;</p>\n",
    "\n",
    "<p><img alt=\"TMIN,TMAX.png\" src=\"myfigs/4_4/qw.png\" style=\"height:300px; width:800px\" /></p>\n",
    "\n",
    "<p>To compare the precipitation&nbsp;we need to translate millimeter/day to inches/month. According to our analysis the average rainfall is 4.00 mm/day which translates to about 4.72 Inches&nbsp;per month. According to US-Climate-Data the average rainfall is closer to 4.5 inch per month. However, there is clear agreement that average precipitation&nbsp;is close to a constant throughout the year, which some periodicity in the graph. It peaks around August-September which is the rainy season in Florida. Hence the graphs are in accordance with each other. </p>\n",
    "\n",
    "<p> A point to be noted here is that the statistics obtained from US climate data is only pertaining to a single weather station while the mean precipitation shown in our graph is an average over the entire South Eastern USA region. </p>\n",
    "\n",
    "<p>&nbsp;<img alt=\"PRCP.png\" src=\"myfigs/4_4/prcpmean.jpg\" style=\"height:400px; width:500px\" /></p>\n",
    "\n",
    "### Exploratory data analysis\n",
    "\n",
    "<p>We could perform some statistical tests to quantify this comparison between a the given data and the data from the US Climate site. We first take the TMIN quantity. We compare the equality between the avergage low temperature from US climate site with Avg Mean TMIN temperature from ncdc site. We use a one-sided **paired T-Test** to test our hypothesis. Our null hypothesis is that the values are correlated and are nearly the same. The alternate hypothesis is that they are different. The P-Value obtained from this comparison is 0.87, which at the 5% means, the null hypothesis cannot be rejected. Hence, the null hypothesis cannot be rejected and the distribution of average low temperature obtained from usclimate data site is same as the average mean TMIN temperature obtained from ncdc site.</p>\n",
    "\n",
    "<p> Similarly we test the hypothesis for PRCP with the null hypothesis that the two data are highly correlated. We get a p-value of 0.65 for a paired T-Test, hence we cannot reject the hypothesis at a 5% significance level. Hence our sanity check proves that our data is clean and is truthful.</p>\n"
   ]
  },
  {
   "cell_type": "markdown",
   "metadata": {
    "run_control": {
     "frozen": false,
     "read_only": false
    }
   },
   "source": [
    "## PCA analysis\n",
    "\n",
    "For each of the six measurement, we compute the percentate of the variance explained as a function of the number of eigen-vectors used.\n",
    "\n",
    "### Percentage of variance explained.\n",
    "![VarExplained1.png](myfigs/4_4/pvar_tmax_tmin_tobs.png)\n",
    "We see that the top 5 eigen-vectors explain 25% of variance for TMIN, 50% for TOBS and 22% for TMAX. Infact, the plot of TMAX and TMIN is nearly the same indicating that they might co-vary. Also since Florida is a perennial humid and hot state, the temperature variations between day (TMAX) and night (TMIN) might be synchronized.\n",
    "\n",
    "We conclude that of the three, TOBS is best explained by the top 5 eigenvectors. This is especially true for the first eigen-vector which, by itself, explains 42% of the variation, which is nearly 4/5ths the total explained variance. Hence, more analysis could be directed towards TOBS.\n",
    "\n",
    "TMAX and TMIN do not have a pretty good approximation using the first five eigen vectors since they do not contribute to a significant share of the total variance. It can be inferred that the temperature statistics follow a random pattern with less variance along a few principal axes. But, TOBS has a good approximation based on the five eigen vectos, and based on this initial inference, we will dig deeper into the PCA analysis of TOBS. However we can expect that the TOBS data is going to be noisy since the temperatures on consecutive days of the year do not follow a strictly increasing or decreasing sequence over a considerably big window and in a humid state like Florida.\n",
    "\n",
    "![VarExplained2.png](myfigs/4_4/pvar_snow_snwd_prcp.png)\n",
    "\n",
    "The top 5 eigenvectors explain only 7% of the variance for PRCP. On the other hand the top 5 eigenvectors explain 95% of the variance for SNWD and 90% for SNOW. This means that these top 5 eigenvectors capture most of the variation in the snow signals. We might think that this is a good reconstruction, but we need to take into account that SNWD and SNOW data would mostly be trivial values, since again, South-East USA literally gets no snowfall. The spikes in the graphs of SNOW and SNWD (shown below) is on a select number of days, and adds no analytical promise. This means that any reconstruction using the top few eigen vectors will will get 90% of the data correct simply owing to the fact that the snow is zero always. Hence we can discard that. \n",
    "\n",
    "<p><img alt=\"eigen_snow_snwd.png\" src=\"myfigs/4_4/eigen_snow_snwd.png\" style=\"height:200px; width:600px\" /></p>\n",
    "<p><img alt=\"mean_std_snow_snwd.png\" src=\"myfigs/4_4/mean_std_snow_snwd.png\" style=\"height:200px; width:600px\" /></p>"
   ]
  },
  {
   "cell_type": "markdown",
   "metadata": {
    "run_control": {
     "frozen": false,
     "read_only": false
    }
   },
   "source": [
    "### Analysis of Temperature observed - TOBS\n",
    "\n",
    "We choose to analyze the eigen-decomposition for TOBS because the first 3 eigen-vectors explain more than 50% of the variance. First, we graph the mean and the top 3 eigen-vectors.\n",
    "\n",
    "We observe that the average temperatures conform to the seasonal pattern with the temperature being maximum between mid May to September which is the Summer season. Likewise the minimum temperature is observed between December and March which is the Winter season. \n",
    "\n",
    "<p><img alt=\"mean_std_snow_snwd.png\" src=\"myfigs/4_4/tobs_mean_eigen.jpg\" style=\"height:300px; width:800px\" /></p>"
   ]
  },
  {
   "cell_type": "markdown",
   "metadata": {
    "run_control": {
     "frozen": false,
     "read_only": false
    }
   },
   "source": [
    "Next we interpret the eigen-functions. The first eigen-function (eig1) has a shape very different from the mean function. It is nearly constant. There is a counter-intutive **dip** in Summer season, which is quite perplexing. The interpretation of this shape is that eig1 represents the corrective factor to the mean of the data. Sometimes it might be too humid and rain in the summer and that could have made the cities cooler, and hence **eig1** accounts for that factor.\n",
    "\n",
    "**eig2 and eig3** are quite different than **eig1** but similar in the following way. They both start high in Winter (Jan-March) and oscilate slowly, coming down to its minimum at March where it is much cooler. In other words, they correspond to changing the distribution of the TOBS over the winter months, that correct the total. Hence we can say that the period between Jan-Feb is slightly warmer than the rest of the winter months.\n",
    "\n",
    "They can be interpreted as follows:\n",
    "* **eig1:** less temperature in june - october than the rest of the year. But mostly constant\n",
    "* **eig2:** more temperature in Jan-Feb, than the rest of the year with dips in March and December.\n",
    "* **eig3:** more temperature in Jan-Feb, than the rest of the year with dips in March and December."
   ]
  },
  {
   "cell_type": "markdown",
   "metadata": {
    "run_control": {
     "frozen": false,
     "read_only": false
    }
   },
   "source": [
    "### Examples of reconstructions\n",
    "\n",
    "The main idea behind reconstruction of distributions is to plot the variation of data with few parameters as possible. Here we try to do that with mean and 3 eigen-vectors. **The reconstruction only makes sense for TOBS variable, since it is the only variable that can be explained with a good reconstruction with only 3 eigen-vectors. Other data is too varying or trivial and hence is not considered**\n",
    "\n",
    "In all of the below graphs we find that the reconstruction of the target vector gets more and more accurate with additional eigen vectors. As stated in the earlier section,the average daily temperatures is not a smoothly increasing/decreasing function but the picture \n",
    "and the reconstruction from the eigen vectors minimizes the noise in the function.\n",
    "\n",
    "#### Coeff1\n",
    "Coeff1: most negative\n",
    "![smallc1.jpg](myfigs/smallc1.jpg)\n",
    "Coeff1: most positive\n",
    "![largec1.jpg](myfigs/largec1.jpg)\n",
    "Large values of coeff1 correspond to more than average temperature observed and low values correspond to less than average temperature observed.\n",
    "\n",
    "#### Coeff2\n",
    "Coeff2: most negative\n",
    "![smallc2.jpg](myfigs/smallc2.jpg)\n",
    "Coeff2: most positive\n",
    "![largec2.jpg](myfigs/largec2.jpg)\n",
    "\n",
    "Large values of coeff2 correspond to low summer temperatures between june and october. Small values for coeff2 correspond to high summer temperatures.\n",
    "Large positive values of coeff2 correspond to a late snow season (most of the snowfall is after mid feb. Negative values for coeff2 correspond to an early snow season (most of the snow is before mid-feb.\n",
    "#### Coeff3\n",
    "Coeff3: most negative\n",
    "![smallc3.jpg](myfigs/smallc3.jpg)\n",
    "Coeff3: most positive\n",
    "![largec3.jpg](myfigs/largec3.jpg)\n",
    "\n",
    "Large positive values of coeff2 correspond to a snow season with two spikes: one in the start of january, the other at the end of february. Negative values of coeff3 correspond to a season with a single peak at the end of Jan."
   ]
  },
  {
   "cell_type": "markdown",
   "metadata": {},
   "source": [
    "###  Cumulative Distribution of residuals and coefficients\n",
    "The below graph shows a plot of the cumulative distribution function of the first three residuals. As expected the residual2 is slightly better than residual1 since the first two eigen vectors combined capture more variance than the first eigen vector alone. Here, we can see that the improvement is not too high, since the **eig+eig2** is only slightly better than **eig1** as it covers 42% of variance in itself.\n",
    "\n",
    "In other words the residual error from reconstruction using only the first eigen vector grows only slightly faster than the residual error from reconstruction using the first two eigen vectors combined. However we can see that there is not much difference in the cumulative residual errors of res_2 and res_3. This behaviour is as expected,conforming with what we saw in the percentage variance explained plot of TOBS, where the increase in the percentage of variance explained between 2 and 3 eigen vectors is very small.<br/>\n",
    "![residuals_tobs.png](myfigs/residuals_tobs.png)\n",
    "\n",
    "The below graph shows a plot of the cumulative distribution function of the first three coefficients of the eigen vectors. Since the first eigen vector gives the direction of maximum variation it is natural that many data points are dominated by a large coefficient1 compared to the other coefficients. As we can see there is not much difference between the coefficients 2 and 3, for the same reason as explained above.\n",
    "![residuals_tobs.png](myfigs/coeffs_tobs.png)"
   ]
  },
  {
   "cell_type": "markdown",
   "metadata": {},
   "source": [
    "### Visualizing data distribution for TOBS\n",
    "\n",
    "The below map shows a distribution of the different weather stations that have collected the TOBS measurement in the central South-East USA region. The size of the circles in the map is proportional to the number of datapoints contributed by a particular weather station. The fill color of the circles is a heatmap denoting the average value of coefficient1 which is the deviation of temperature from the mean. A red weather station indicates a high average temperature while a blue weather station indicates a relatively lower average temperature. \n",
    "\n",
    "![residuals_tobs.png](myfigs/boundingmap.png)"
   ]
  },
  {
   "cell_type": "markdown",
   "metadata": {},
   "source": [
    "## Analysis of Precipitation\n",
    "\n",
    "The variation in PRCP is large, as the signal is near noise, as the rain is arbitrary. Its very difficult to reconstruct it using PCA since it does not have any structure to it. The mean and the first 3 eigen vectors of PRCP are shown below. We can see that as the mean decides the pace of the signal and as the eigen vectors are too noisy, we can see very little structure. Maybe we can see that in April-September, the eigen vectors add with the mean to project it high. Other than that, PRCP is not good for analysis.\n",
    "\n",
    "<p>&nbsp;<img src=\"myfigs/4_4/prcp_mean_eigen.jpg\" style=\"height:300px;\" /></p>\n",
    "\n",
    "There is an average rainfall of 47.31 mm/day in the given region. As shown in the below graph, the rain occurs throughout the year. The CDF plot shows that it rains for about 60% of the days in our region. The first eigen vector represents the deviation in rainfall from mean. The second and third eigen vectors represent seasonal rain. \n",
    "\n",
    "Since the weather stations are all close to one another there is good chance that precipitation in one station guarantees precipitation in a nearby station. To accept/reject our hypothesis we begin with plotting a correlation matrix of Log probabilities where each of the values represent the probability of a coincidental rain in two weather stations. \n",
    "<p>&nbsp;<img src=\"myfigs/corr1.png\" style=\"height:400px;\" /></p>\n",
    "\n",
    "We find out that we have 120 stations which have PRCP values collected. We then select the top two stations (number of days the PRCP values were collected) and try to find if it rained in both locations on the same day. The stations ‘USC00090979’ and ‘USC00097276’ were taken since these have the maximum number of entries, 35357 and 34623 respectively. After\n",
    "removing the nan values we have 28351 entries for both the stations. The probability of occurrence of precipitation between the two stations is 0.0776.\n",
    "\n",
    "We can see from the above graph that the first 30 weather stations are correlated. To find more correlations we use PCA of this correlation matrix and cluster the weather stations based on the first few principal components. The top 10 eigen vectors of the correlation matrix explain about 90% of the of the square magnitude of the matrix.\n",
    "\n",
    "For the purpose of clustering, we consider only the first four principal components. We sort the weather stations in the correlation matrix according to increasing order of the magnitude of dimensions of the first eigen vector. The resultant correlation matrix visualized as a heatmap shows clusters of weather stations that are correlated based on the first eigen vector. We repeat this process for the 2nd,3rd and 4th eigen vectors. Below are the new heatmaps obtained after sorting. From the upper left heatmap we can see that the first 40 stations are correlated and especially the first 20 are highly correlated.\n",
    "\n",
    "<p>&nbsp;<img src=\"myfigs/heatmap1.png\" style=\"height:700px;\" /></p>\n",
    "\n",
    "An alernate method of visualizing the data is to plot the weather stations along with the coefficients of the first principal components. The below geo plot indicates the principal components by triangles with the size of the triangle representing the magnitude of the coefficient and the opacity of the triangle representing the sign of the coefficient (filled triangles for negative and un-filled triangles for positive coefficients). As we can see there are a few close weather stations with similar triangle structures,that is, similar principal components. Both the visualizations(the above map and the below map) conform that the weather stations near the region of Talahasee are strongly correlated and experience precipitaion on the same days of the year.\n",
    "\n",
    "<p>&nbsp;<img src=\"myfigs/talahasee.png\" style=\"height:300px;\" /></p>"
   ]
  },
  {
   "cell_type": "markdown",
   "metadata": {},
   "source": [
    "## Temporal Vs Spatial Analysis of Precipitation\n",
    "\n",
    "In the previous section we see the variation of Coeff1, which corresponds to the total amount of rain, with respect to location. We now estimate the relative importance of location-to-location variation relative to year-by-year variation.\n",
    "These are measured using the fraction by which the variance is reduced when we subtract from each station/year entry the average-per-year or the average-per-station respectively. Here are the results:\n",
    "\n",
    "**coeff_1**<br/> \n",
    "total RMS                   =  184.75<br/>\n",
    "RMS removing mean-by-station=  167.89 Fraction explained= 11.71%<br/>\n",
    "RMS removing mean-by-year   =  120.26 Fraction explained= 36.34%<br/>\n",
    "\n",
    "**coeff_2** <br/>\n",
    "total RMS                   =  180.79<br/>\n",
    "RMS removing mean-by-station=  172.56 Fraction explained= 5.65%<br/>\n",
    "RMS removing mean-by-year   =  80.97 Fraction explained= 56.70%<br/>\n",
    "\n",
    "**coeff_3** <br/> \n",
    "total RMS                   =  171.69<br/>\n",
    "RMS removing mean-by-station=  167.55 Fraction explained= 3.11%<br/>\n",
    "RMS removing mean-by-year   =  70.59 Fraction explained= 60.88%<br/>\n",
    "\n",
    "We see that the variation by year explains more than the variation by station. However this effect is weaker consider coeff_1, which has to do with the total rainfall, vs. coeff_2,3 which, as we saw above have to do with the timining of rainfall. We see that for coeff_2,3 the stations explain 2-5% of the variance while the year explaines 55-60%."
   ]
  },
  {
   "cell_type": "markdown",
   "metadata": {},
   "source": [
    "## CONCLUSION:\n",
    "\n",
    "Statistical analysis on the ‘BSBSSSSS’ dataset, yields strong analytical insights. We can observe certain key characteristics and patterns which conform to the actual weather patterns observed in the south eastern region of the US. Florida has perennial rainfall which can be seen in the distribution of PRCP. The temperature varies normally with peaks in Summer. The heat maps show that precipiation is more of a yearly phenomenon as it has strong correlation between different years. The heat maps show the correlation of the data between different stations and we can observe some strong correlations between nearer stations. Thus the analysis provides an insight to the distribution of South-east USA's weather data over the years."
   ]
  }
 ],
 "metadata": {
  "anaconda-cloud": {},
  "kernelspec": {
   "display_name": "Python 2",
   "language": "python",
   "name": "python2"
  },
  "language_info": {
   "codemirror_mode": {
    "name": "ipython",
    "version": 2
   },
   "file_extension": ".py",
   "mimetype": "text/x-python",
   "name": "python",
   "nbconvert_exporter": "python",
   "pygments_lexer": "ipython2",
   "version": "2.7.13"
  },
  "toc": {
   "colors": {
    "hover_highlight": "#DAA520",
    "running_highlight": "#FF0000",
    "selected_highlight": "#FFD700"
   },
   "moveMenuLeft": true,
   "nav_menu": {
    "height": "12px",
    "width": "252px"
   },
   "navigate_menu": true,
   "number_sections": true,
   "sideBar": true,
   "threshold": 4,
   "toc_cell": false,
   "toc_section_display": "block",
   "toc_window_display": false,
   "widenNotebook": false
  }
 },
 "nbformat": 4,
 "nbformat_minor": 2
}
