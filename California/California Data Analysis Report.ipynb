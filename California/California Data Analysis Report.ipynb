{
 "cells": [
  {
   "cell_type": "markdown",
   "metadata": {},
   "source": [
    " # California Weather Analysis\n",
    "\n",
    "This is a report on the historical analysis of weather patterns in an area that approximately overlaps the Central area of California.\n",
    "\n",
    "The data we will use here comes from [NOAA](https://www.ncdc.noaa.gov/). Specifically, it was downloaded from This [FTP site](ftp://ftp.ncdc.noaa.gov/pub/data/ghcn/daily/).\n",
    "\n",
    "We focused on six measurements:\n",
    "* **TMIN, TMAX:** the daily minimum and maximum temperature.\n",
    "* **TOBS:** The average temperature for each day.\n",
    "* **PRCP:** Daily Percipitation (in mm)\n",
    "* **SNOW:** Daily snowfall (in mm)\n",
    "* **SNWD:** The depth of accumulated snow.\n",
    "\n",
    "## 1. Span of Weather Stations\n",
    "\n",
    "By plotting the latitude,longitude of the weather stations in the dataset, it was found that all the weather stations belong to the coastal side of central California.   \n",
    "<p><img style='height:300px' src=\"myfigs/location_map.png\" /></p>\n",
    "\n",
    "\n",
    "### 1.1 Sanity-check: comparison with outside sources\n",
    "\n",
    "<p>As a quick sanity check, I picked one of the weather stations from my dataset at Oakley, california and got it's weather statistics from the <a href='http://www.usclimatedata.com/climate/oakley/california/united-states/usca2070'>US climate data</a> website.The graph below shows the daily minimum and maximum temperatures for each month, as well as the total precipitation for each month.</p>\n",
    "\n",
    "<p>&nbsp;</p>\n",
    "\n",
    "<p><img style='height:300px' src=\"myfigs/sanity_check_oakley.png\" /></p>\n",
    "\n",
    "<p>&nbsp;</p>\n",
    "\n",
    "<p>We see that the min and max daily&nbsp;temperature approximately agrees with the pattern we got from our data(shown in the below figure). Same is the case with the precipitation data, the mean precipitation is approximately similar to the data obtained from US climate data website. A point to be noted here is that the statistics obtained from US climate data is only pertaining to a single weather station while the mean precipitation shown in our graph is an average over the entire Central California region.</p>\n",
    "\n",
    "<p>&nbsp;</p>\n",
    "\n",
    "<p><img alt=\"TMIN,TMAX.png\" src=\"myfigs/sanity_check_oakley2.png\" style=\"height:300px;\" /></p>\n",
    "\n",
    "<p>&nbsp;<img alt=\"PRCP.png\" src=\"myfigs/sanity_check_oakley3.png\" style=\"height:300px;\" /></p>\n"
   ]
  },
  {
   "cell_type": "markdown",
   "metadata": {
    "collapsed": true
   },
   "source": [
    "## 2. PCA analysis\n",
    "\n",
    "For each of the six measurement, we compute the percentate of the variance explained as a function of the number of eigen-vectors used.\n",
    "\n",
    "### Percentage of variance explained.\n",
    "![VarExplained1.png](myfigs/pca1.png)\n",
    "We see that the top 5 eigen-vectors explain 38% of variance for TMIN, 59% for TOBS and 47% for TMAX.\n",
    "\n",
    "We conclude that of the three, TOBS is best explained by the top 5 eigenvectors. This is especially true for the first eigen-vector which, by itself, explains 48% of the variance. TMAX and TMIN also have a pretty good approximation using the first five eigen vectors since they contribute to a significant share of the total variance. On the whole it can be inferred that the temperature statistics follow a pattern with majority of the variance along a few principal axes.\n",
    "Based on this initial promise, we will dig deeper into the PCA analysis of TOBS. However we can expect that the TOBS data is going to be noisy since the temperatures on consecutive days of the year do not follow a strictly increasing or decreasing sequence over a considerably big window. \n",
    "<p></p>\n",
    "![VarExplained2.png](myfigs/pca2.png)\n",
    "\n",
    "The top 5 eigenvectors explain only 16% of the variance for PRCP. On the other hand the top 5 eigenvectors explain 72% of the variance for SNWD and 68% for SNOW. This means that these top 5 eigenvectors capture most of the variation in the snow signals. However this is not statistically significant since the majority of the weather stations are located in parts of California where it never really snows. As we can see from the below graphs the mean snow depth is close to zero for major parts of the year apart from minor spikes. Also the top three eigen vectors remain zero almost the whole year except for a few sporadic spikes. This means that any reconstruction using the top few eigen vectors will will get 70% of the data correct simply owing to the fact that the snow is zero always. \n",
    "\n",
    "<p>&nbsp;<img src=\"myfigs/snwd-stats.png\" style=\"height:300px;\" /></p>"
   ]
  },
  {
   "cell_type": "markdown",
   "metadata": {
    "collapsed": true
   },
   "source": [
    "### 2.1 Analysis of TOBS\n",
    "\n",
    "We choose to analyze the eigen-decomposition for TOBS because the first 3 eigen-vectors explain more than 55% of the variance.\n",
    "First, we graph the mean and the top 3 eigen-vectors.\n",
    "\n",
    "We observe that the average temperatures conform to the seasonal pattern with the temperature being maximum between mid june and end of october which is the Summer season. Likewise the minimum temperature is observed between December and March which is the Winter season.\n",
    "<p>&nbsp;<img src=\"myfigs/tobs-stats.png\" style=\"height:300px;\" /></p>"
   ]
  },
  {
   "cell_type": "markdown",
   "metadata": {},
   "source": [
    "Next we interpret the eigen-functions. The first eigen-vector has a shape very similar to the mean function. The interpretation of this shape is that eig1 represents the deviation of temperature above/below the mean, but without changing the distribution over time.\n",
    "\n",
    "**eig2 and eig3** are similar in the following way. They peak during a certain period of the year. In other words, they correspond to the deviation in temperature distribition between different months.\n",
    "\n",
    "They can be interpreted as follows:\n",
    "* **eig2:** less temperature in june - october than the rest of the year.\n",
    "* **eig3:** more temperature in march - july, than the rest of the year.\n"
   ]
  },
  {
   "cell_type": "markdown",
   "metadata": {
    "collapsed": true
   },
   "source": [
    "#### 2.1.1 Examples of reconstructions\n",
    "\n",
    "In all of the below graphs we find that the reconstruction of the target vector gets more and more accurate with additional eigen vectors. As stated in the earlier section,the average daily temperatures is not a smoothly increasing/decreasing function and the reconstruction from the eigen vectors minimizes the noise in the function.\n",
    "\n",
    "#### Coeff1\n",
    "Coeff1: small values\n",
    "![c1small.png](myfigs/c1small.png)\n",
    "Coeff1: large values\n",
    "![c1large.png](myfigs/c1large.png)\n",
    "Large values of coeff1 correspond to more than average temperature and low values correspond to less than average temperature.\n",
    "\n",
    "#### Coeff2\n",
    "Coeff2: small values\n",
    "![c2small.png](myfigs/c2small.png)\n",
    "Coeff2: large values\n",
    "![c2large.png](myfigs/c2large.png)\n",
    "\n",
    "Large values of coeff2 correspond to low summer temperatures between june and october. Small values for coeff2 correspond to high summer temperatures.\n",
    "\n",
    "#### Coeff3\n",
    "Coeff3: small values\n",
    "![c3small.png](myfigs/c3small.png)\n",
    "Coeff3: large values\n",
    "![c3large.png](myfigs/c3large.png)\n",
    "\n",
    "Large values of coeff3 correspond to a high temperatures during the march-july period of the year and small values of coeff3 correspond to low temperatures during the march-july timeperiod. \n"
   ]
  },
  {
   "cell_type": "markdown",
   "metadata": {
    "collapsed": true
   },
   "source": [
    "#### 2.1.2 Cumulative Distribution of residuals and coefficients\n",
    "The below graph shows a plot of the cumulative distribution function of the first three residuals. As expected the residual2 is better than residual1 since the first two eigen vectors combined capture more variance than the first eigen vector alone. In other words the residual error from reconstruction using only the first eigen vector grows faster than the residual error from reconstruction using the first two eigen vectors combined. However we can see that there is not much difference in the cumulative residual errors of res_2 and res_3. This behaviour is as expected,conforming with what we saw in the percentage variance explained plot of TOBS, where the increase in the percentage of variance explained between 2 and 3 eigen vectors is very small.<br/>\n",
    "![residuals_tobs.png](myfigs/residuals_tobs.png)\n",
    "\n",
    "The below graph shows a plot of the cumulative distribution function of the first three coefficients of the eigen vectors. Since the first eigen vector gives the direction of maximum variation it is natural that many data points are dominated by a large coefficient1 compared to the other coefficients. As we can see there is not much difference between the coefficients 2 and 3, for the same reason as explained above.\n",
    "![residuals_tobs.png](myfigs/coeffs_tobs.png)"
   ]
  },
  {
   "cell_type": "markdown",
   "metadata": {},
   "source": [
    "#### 2.1.3 Visualizing data distribution for TOBS\n",
    "\n",
    "The below map shows a distribution of the different weather stations that have collected the TOBS measurement in the central California region. The size of the circles in the map is proportional to the number of datapoints contributed by a particular weather station. The fill color of the circles is a heatmap denoting the average value of coefficient1 which is the deviation of temperature from the mean. A red weather station indicates a high average temperature while a blue weather station indicates a relatively lower average temperature. \n",
    "\n",
    "![residuals_tobs.png](myfigs/5-map.png)"
   ]
  },
  {
   "cell_type": "markdown",
   "metadata": {
    "collapsed": true
   },
   "source": [
    "## 3. Analysis of Precipitation\n",
    "\n",
    "There is an average rainfall of 13.31 mm/day in the given region. As shown in the below graph, most of the rain occurs during the period of November to February. The CDF plot shows that it rains for about 20% of the days in our region. The first eigen vector represents the deviation in rainfall from mean. The second and third eigen vectors represent seasonal rain. \n",
    "<p>&nbsp;<img src=\"myfigs/prcp-stats.png\" style=\"height:300px;float:left;\" /><img src=\"myfigs/cdf-rain.png\" style=\"height:258px;\" /></p>\n",
    "\n",
    "Since the weather stations are all close to one another there is good chance that precipitation in one station guarantees precipitation in a nearby station. To accept/reject our hypothesis we begin with plotting a correlation matrix of Log probabilities where each of the values represent the probability of a coincidental rain in two weather stations. \n",
    "<p>&nbsp;<img src=\"myfigs/7-correlation.png\" style=\"height:400px;\" /></p>\n",
    "\n",
    "We can see from the above graph that the first 30 weather stations are correlated. To find more correlations we use PCA of this correlation matrix and cluster the weather stations based on the first few principal components. As shown in the below graph the top 10 eigen vectors of the correlation matrix explain about 90% of the of the square magnitude of the matrix.\n",
    "\n",
    "<p>&nbsp;<img src=\"myfigs/7-correlation-decomp.png\" style=\"height:300px;\" /></p>\n",
    "\n",
    "For the purpose of clustering, we consider only the first four principal components. We sort the weather stations in the correlation matrix according to increasing order of the magnitude of dimensions of the first eigen vector. The resultant correlation matrix visualized as a heatmap shows clusters of weather stations that are correlated based on the first eigen vector. We repeat this process for the 2nd,3rd and 4th eigen vectors. Below are the new heatmaps obtained after sorting. From the upper left heatmap we can see that the first 40 stations are correlated and especially the first 20 are highly correlated.\n",
    "\n",
    "<p>&nbsp;<img src=\"myfigs/7-heatmap.png\" style=\"height:700px;\" /></p>\n",
    "\n",
    "Plotting the first few correlated weather stations on a geo map, we get the below plot. From our analysis, it is evident that the weather stations that are nearby have a good chance of experiencing rain on the same day of the year. \n",
    "\n",
    "<p>&nbsp;<img src=\"myfigs/7-heatmap-geo.png\" style=\"height:300px;\" /></p>\n",
    "\n",
    "An alernate method of visualizing the data is to plot the weather stations along with the coefficients of the first principal components. The below geo plot indicates the principal components by triangles with the size of the triangle representing the magnitude of the coefficient and the opacity of the triangle representing the sign of the coefficient (filled triangles for negative and un-filled triangles for positive coefficients). As we can see there are a few close weather stations with similar triangle structures,that is, similar principal components. Both the visualizations(the above map and the below map) conform that the weather stations near the region of Concord and Pleasant Hill are correlated and experience precipitaion on the same days of the year.\n",
    "\n",
    "<p>&nbsp;<img src=\"myfigs/5.5-map.png\" style=\"height:300px;\" /></p>"
   ]
  },
  {
   "cell_type": "markdown",
   "metadata": {},
   "source": [
    "## 4. Temporal Vs Spatial Analysis of Precipitation\n",
    "\n",
    "In the previous section we see the variation of Coeff1, which corresponds to the total amount of rain, with respect to location. We now estimate the relative importance of location-to-location variation relative to year-by-year variation.\n",
    "These are measured using the fraction by which the variance is reduced when we subtract from each station/year entry the average-per-year or the average-per-station respectively. Here are the results:\n",
    "\n",
    "coeff_1<br/> \n",
    "total RMS                   =  194.754604183<br/>\n",
    "RMS removing mean-by-station=  173.891026199 Fraction explained= 10.71%<br/>\n",
    "RMS removing mean-by-year   =  120.264234979 Fraction explained= 38.24%<br/>\n",
    "\n",
    "coeff_2 <br/>\n",
    "total RMS                   =  180.793723228<br/>\n",
    "RMS removing mean-by-station=  172.563345122 Fraction explained= 4.55%<br/>\n",
    "RMS removing mean-by-year   =  80.9796786501 Fraction explained= 55.20%<br/>\n",
    "\n",
    "coeff_3<br/> \n",
    "total RMS                   =  171.693528795<br/>\n",
    "RMS removing mean-by-station=  167.550306474 Fraction explained= 2.41%<br/>\n",
    "RMS removing mean-by-year   =  70.5968252719 Fraction explained= 58.88%<br/>\n",
    "\n",
    "We see that the variation by year explains more than the variation by station. However this effect is weaker consider coeff_1, which has to do with the total rainfall, vs. coeff_2,3 which, as we saw above have to do with the timining of rainfall. We see that for coeff_2,3 the stations explain 2-5% of the variance while the year explaines 55-60%."
   ]
  },
  {
   "cell_type": "code",
   "execution_count": null,
   "metadata": {
    "collapsed": true
   },
   "outputs": [],
   "source": []
  }
 ],
 "metadata": {
  "anaconda-cloud": {},
  "kernelspec": {
   "display_name": "Python 2",
   "language": "python",
   "name": "python2"
  },
  "language_info": {
   "codemirror_mode": {
    "name": "ipython",
    "version": 2
   },
   "file_extension": ".py",
   "mimetype": "text/x-python",
   "name": "python",
   "nbconvert_exporter": "python",
   "pygments_lexer": "ipython2",
   "version": "2.7.13"
  }
 },
 "nbformat": 4,
 "nbformat_minor": 1
}
